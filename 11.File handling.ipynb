{
 "cells": [
  {
   "cell_type": "code",
   "execution_count": 1,
   "metadata": {},
   "outputs": [],
   "source": [
    "def prime (num,check=2):\n",
    "    if num % check ==0 :\n",
    "        return false\n",
    "    elif check == num// 2+1 :\n",
    "        return True\n",
    "    prime(num,check+1)"
   ]
  },
  {
   "cell_type": "code",
   "execution_count": 3,
   "metadata": {},
   "outputs": [
    {
     "name": "stdout",
     "output_type": "stream",
     "text": [
      "None\n"
     ]
    }
   ],
   "source": [
    "r = prime(7)\n",
    "print(r)"
   ]
  },
  {
   "cell_type": "code",
   "execution_count": 4,
   "metadata": {},
   "outputs": [],
   "source": [
    "prime = lambda num,check=2 : False if num % check == 0 else \\\n",
    "True if check == num // 2+1 else prime(num,check+1)"
   ]
  },
  {
   "cell_type": "code",
   "execution_count": 5,
   "metadata": {},
   "outputs": [
    {
     "data": {
      "text/plain": [
       "True"
      ]
     },
     "execution_count": 5,
     "metadata": {},
     "output_type": "execute_result"
    }
   ],
   "source": [
    "prime(13)"
   ]
  },
  {
   "cell_type": "code",
   "execution_count": 6,
   "metadata": {},
   "outputs": [
    {
     "data": {
      "text/plain": [
       "[1, 2, 3]"
      ]
     },
     "execution_count": 6,
     "metadata": {},
     "output_type": "execute_result"
    }
   ],
   "source": [
    "list(map(int,('1','2','3')))\n"
   ]
  },
  {
   "cell_type": "code",
   "execution_count": 8,
   "metadata": {},
   "outputs": [
    {
     "name": "stdout",
     "output_type": "stream",
     "text": [
      "[5, 13, 25]\n"
     ]
    }
   ],
   "source": [
    "x=[1,2,3]\n",
    "y=[2,3,4]\n",
    "result = []\n",
    "for a,b in zip (x,y):\n",
    "    r = (lambda x,y:x**2 + y**2)(a,b)\n",
    "    result.append(r)\n",
    "print(result)    "
   ]
  },
  {
   "cell_type": "code",
   "execution_count": 9,
   "metadata": {},
   "outputs": [
    {
     "data": {
      "text/plain": [
       "[5, 13, 25]"
      ]
     },
     "execution_count": 9,
     "metadata": {},
     "output_type": "execute_result"
    }
   ],
   "source": [
    "list(map(lambda x,y:x**2+y**2,[1,2,3],[2,3,4]))"
   ]
  },
  {
   "cell_type": "code",
   "execution_count": null,
   "metadata": {},
   "outputs": [],
   "source": [
    "m,n=3,4\n",
    "a= [\n",
    "    \n",
    "    \n",
    "]\n",
    "for row in range(m) :\n",
    "    rows =[]\n",
    "    for col in range (n):\n",
    "        num=int(input(f\"enter a[{row}][{col}] :\"))\n",
    "        "
   ]
  },
  {
   "cell_type": "code",
   "execution_count": 13,
   "metadata": {},
   "outputs": [
    {
     "ename": "SyntaxError",
     "evalue": "invalid syntax (<ipython-input-13-4eefd7af1978>, line 1)",
     "output_type": "error",
     "traceback": [
      "\u001b[1;36m  File \u001b[1;32m\"<ipython-input-13-4eefd7af1978>\"\u001b[1;36m, line \u001b[1;32m1\u001b[0m\n\u001b[1;33m    a= [list(map(int,input(f\"{var}:\")))]for var in range(3)\u001b[0m\n\u001b[1;37m                                          ^\u001b[0m\n\u001b[1;31mSyntaxError\u001b[0m\u001b[1;31m:\u001b[0m invalid syntax\n"
     ]
    }
   ],
   "source": [
    "a= [list(map(int,input(f\"{var}:\")))]for var in range(3)"
   ]
  },
  {
   "cell_type": "code",
   "execution_count": null,
   "metadata": {},
   "outputs": [],
   "source": [
    "even= lambda x: True if x%2==0\n",
    "list(filter(even,data))"
   ]
  },
  {
   "cell_type": "code",
   "execution_count": 16,
   "metadata": {},
   "outputs": [
    {
     "name": "stdout",
     "output_type": "stream",
     "text": [
      "[39, 33, 26, 42, 27, 32, 21, 48, 39, 14, 35, 28, 37, 26, 34, 35, 42, 41, 26, 19]\n"
     ]
    }
   ],
   "source": [
    "from random import randint\n",
    "data = [randint(10,50) for var in range(20)]\n",
    "print(data)\n"
   ]
  },
  {
   "cell_type": "code",
   "execution_count": 17,
   "metadata": {},
   "outputs": [
    {
     "data": {
      "text/plain": [
       "[37, 41, 19]"
      ]
     },
     "execution_count": 17,
     "metadata": {},
     "output_type": "execute_result"
    }
   ],
   "source": [
    "prime = lambda num,check=2 : False if num % check == 0 else \\\n",
    "True if check == num // 2+1 else prime(num,check+1)\n",
    "list(filter(prime,data))"
   ]
  },
  {
   "cell_type": "code",
   "execution_count": 19,
   "metadata": {},
   "outputs": [],
   "source": [
    "from functools import reduce\n"
   ]
  },
  {
   "cell_type": "code",
   "execution_count": 20,
   "metadata": {},
   "outputs": [
    {
     "data": {
      "text/plain": [
       "15"
      ]
     },
     "execution_count": 20,
     "metadata": {},
     "output_type": "execute_result"
    }
   ],
   "source": [
    "x=[1,2,3,4,5]\n",
    "reduce(lambda x,y:x+y,x)"
   ]
  },
  {
   "cell_type": "code",
   "execution_count": 31,
   "metadata": {},
   "outputs": [
    {
     "data": {
      "text/plain": [
       "25800022600047052140012507345164607168429796314974446082384073840147073775468094045329287185417173482087059144697336379483484925016241871310518944097995034059103738852836322303863800321890406457125"
      ]
     },
     "execution_count": 31,
     "metadata": {},
     "output_type": "execute_result"
    }
   ],
   "source": [
    "reduce(lambda x,y:x**2+y**2,[1,2,3,4,5,6,7,8,9,10])"
   ]
  },
  {
   "cell_type": "markdown",
   "metadata": {},
   "source": [
    "# File handling\n"
   ]
  },
  {
   "cell_type": "code",
   "execution_count": 32,
   "metadata": {},
   "outputs": [],
   "source": [
    "import os\n"
   ]
  },
  {
   "cell_type": "code",
   "execution_count": 33,
   "metadata": {},
   "outputs": [
    {
     "name": "stdout",
     "output_type": "stream",
     "text": [
      "['DirEntry', 'F_OK', 'MutableMapping', 'O_APPEND', 'O_BINARY', 'O_CREAT', 'O_EXCL', 'O_NOINHERIT', 'O_RANDOM', 'O_RDONLY', 'O_RDWR', 'O_SEQUENTIAL', 'O_SHORT_LIVED', 'O_TEMPORARY', 'O_TEXT', 'O_TRUNC', 'O_WRONLY', 'P_DETACH', 'P_NOWAIT', 'P_NOWAITO', 'P_OVERLAY', 'P_WAIT', 'PathLike', 'R_OK', 'SEEK_CUR', 'SEEK_END', 'SEEK_SET', 'TMP_MAX', 'W_OK', 'X_OK', '_Environ', '__all__', '__builtins__', '__cached__', '__doc__', '__file__', '__loader__', '__name__', '__package__', '__spec__', '_execvpe', '_exists', '_exit', '_fspath', '_get_exports_list', '_putenv', '_unsetenv', '_wrap_close', 'abc', 'abort', 'access', 'altsep', 'chdir', 'chmod', 'close', 'closerange', 'cpu_count', 'curdir', 'defpath', 'device_encoding', 'devnull', 'dup', 'dup2', 'environ', 'errno', 'error', 'execl', 'execle', 'execlp', 'execlpe', 'execv', 'execve', 'execvp', 'execvpe', 'extsep', 'fdopen', 'fsdecode', 'fsencode', 'fspath', 'fstat', 'fsync', 'ftruncate', 'get_exec_path', 'get_handle_inheritable', 'get_inheritable', 'get_terminal_size', 'getcwd', 'getcwdb', 'getenv', 'getlogin', 'getpid', 'getppid', 'isatty', 'kill', 'linesep', 'link', 'listdir', 'lseek', 'lstat', 'makedirs', 'mkdir', 'name', 'open', 'pardir', 'path', 'pathsep', 'pipe', 'popen', 'putenv', 'read', 'readlink', 'remove', 'removedirs', 'rename', 'renames', 'replace', 'rmdir', 'scandir', 'sep', 'set_handle_inheritable', 'set_inheritable', 'spawnl', 'spawnle', 'spawnv', 'spawnve', 'st', 'startfile', 'stat', 'stat_float_times', 'stat_result', 'statvfs_result', 'strerror', 'supports_bytes_environ', 'supports_dir_fd', 'supports_effective_ids', 'supports_fd', 'supports_follow_symlinks', 'symlink', 'sys', 'system', 'terminal_size', 'times', 'times_result', 'truncate', 'umask', 'uname_result', 'unlink', 'urandom', 'utime', 'waitpid', 'walk', 'write']\n"
     ]
    }
   ],
   "source": [
    "print(dir(os))"
   ]
  },
  {
   "cell_type": "code",
   "execution_count": 35,
   "metadata": {},
   "outputs": [
    {
     "data": {
      "text/plain": [
       "['.ipynb_checkpoints',\n",
       " '11.File handling.ipynb',\n",
       " '5.List__Dictionary.ipynb',\n",
       " 'CGLABB.docx',\n",
       " 'CGMTLAB897.docx',\n",
       " 'Custom Office Templates',\n",
       " 'Data Types.ipynb',\n",
       " 'Default.rdp',\n",
       " 'Desktop - Shortcut.lnk',\n",
       " 'desktop.ini',\n",
       " 'Dictionary__SET Theory__Operators in python.ipynb',\n",
       " 'DICT_Control StatementS.ipynb',\n",
       " 'ESDPPIC TU.docx',\n",
       " 'file system.pdf',\n",
       " 'graphics.docx',\n",
       " 'hard link.pdf',\n",
       " 'kishan profiler.docx',\n",
       " 'KKKKESDDDD.docx',\n",
       " 'KKKKESDDDD.pdf',\n",
       " 'linux file.pdf',\n",
       " 'LOOPS in Python.ipynb',\n",
       " 'mobile phone.pdf',\n",
       " 'NetBeansProjects',\n",
       " 'NGO ESSAY.docx',\n",
       " 'Print (1).pdf',\n",
       " 'Print (2).pdf',\n",
       " 'Print (3).pdf',\n",
       " 'Print.pdf',\n",
       " 'rahul mahala.odt',\n",
       " 'rahul mahala.rtf',\n",
       " 'rahul mahla.pdf',\n",
       " 'rtu.pdf',\n",
       " 'searchplugins',\n",
       " 'ssssssss.pdf',\n",
       " 'TallyODBC_9000.dsn',\n",
       " 'Untitled.ipynb',\n",
       " 'Untitled1.ipynb',\n",
       " 'Untitled2.ipynb',\n",
       " 'Virtual Machines',\n",
       " '~$bile phone.pdf']"
      ]
     },
     "execution_count": 35,
     "metadata": {},
     "output_type": "execute_result"
    }
   ],
   "source": [
    "os.listdir()"
   ]
  },
  {
   "cell_type": "code",
   "execution_count": 36,
   "metadata": {},
   "outputs": [
    {
     "data": {
      "text/plain": [
       "'C:\\\\Users\\\\india\\\\Documents'"
      ]
     },
     "execution_count": 36,
     "metadata": {},
     "output_type": "execute_result"
    }
   ],
   "source": [
    "pwd"
   ]
  },
  {
   "cell_type": "code",
   "execution_count": 41,
   "metadata": {},
   "outputs": [
    {
     "data": {
      "text/plain": [
       "['.ipynb_checkpoints',\n",
       " '11.File handling.ipynb',\n",
       " '5.List__Dictionary.ipynb',\n",
       " 'CGLABB.docx',\n",
       " 'CGMTLAB897.docx',\n",
       " 'Custom Office Templates',\n",
       " 'Data Types.ipynb',\n",
       " 'Default.rdp',\n",
       " 'Desktop - Shortcut.lnk',\n",
       " 'desktop.ini',\n",
       " 'Dictionary__SET Theory__Operators in python.ipynb',\n",
       " 'DICT_Control StatementS.ipynb',\n",
       " 'ESDPPIC TU.docx',\n",
       " 'file system.pdf',\n",
       " 'graphics.docx',\n",
       " 'hard link.pdf',\n",
       " 'kishan profiler.docx',\n",
       " 'KKKKESDDDD.docx',\n",
       " 'KKKKESDDDD.pdf',\n",
       " 'linux file.pdf',\n",
       " 'LOOPS in Python.ipynb',\n",
       " 'mobile phone.pdf',\n",
       " 'NetBeansProjects',\n",
       " 'NGO ESSAY.docx',\n",
       " 'Print (1).pdf',\n",
       " 'Print (2).pdf',\n",
       " 'Print (3).pdf',\n",
       " 'Print.pdf',\n",
       " 'rahul mahala.odt',\n",
       " 'rahul mahala.rtf',\n",
       " 'rahul mahla.pdf',\n",
       " 'rtu.pdf',\n",
       " 'searchplugins',\n",
       " 'ssssssss.pdf',\n",
       " 'TallyODBC_9000.dsn',\n",
       " 'Untitled.ipynb',\n",
       " 'Untitled1.ipynb',\n",
       " 'Untitled2.ipynb',\n",
       " 'Virtual Machines',\n",
       " '~$bile phone.pdf']"
      ]
     },
     "execution_count": 41,
     "metadata": {},
     "output_type": "execute_result"
    }
   ],
   "source": [
    "os.listdir(\"C://Users//india/Documents/\")"
   ]
  },
  {
   "cell_type": "code",
   "execution_count": 45,
   "metadata": {},
   "outputs": [],
   "source": [
    "fp=open('text1.txt','w')"
   ]
  },
  {
   "cell_type": "code",
   "execution_count": 47,
   "metadata": {},
   "outputs": [
    {
     "data": {
      "text/plain": [
       "9"
      ]
     },
     "execution_count": 47,
     "metadata": {},
     "output_type": "execute_result"
    }
   ],
   "source": [
    "fp.write('text1.txt')"
   ]
  },
  {
   "cell_type": "code",
   "execution_count": 48,
   "metadata": {},
   "outputs": [],
   "source": [
    "s=\"\"\"\n",
    "name    sub1 sub2 sub3\n",
    "rajat    70   80   70\n",
    "kosik    60   80   90\n",
    "s        50    68   78\n",
    "\"\"\""
   ]
  },
  {
   "cell_type": "code",
   "execution_count": 49,
   "metadata": {},
   "outputs": [
    {
     "data": {
      "text/plain": [
       "91"
      ]
     },
     "execution_count": 49,
     "metadata": {},
     "output_type": "execute_result"
    }
   ],
   "source": [
    "fp.write(s)"
   ]
  },
  {
   "cell_type": "code",
   "execution_count": 50,
   "metadata": {},
   "outputs": [
    {
     "ename": "UnsupportedOperation",
     "evalue": "not readable",
     "output_type": "error",
     "traceback": [
      "\u001b[1;31m---------------------------------------------------------------------------\u001b[0m",
      "\u001b[1;31mUnsupportedOperation\u001b[0m                      Traceback (most recent call last)",
      "\u001b[1;32m<ipython-input-50-4dd05c78cb66>\u001b[0m in \u001b[0;36m<module>\u001b[1;34m()\u001b[0m\n\u001b[1;32m----> 1\u001b[1;33m \u001b[0mdata\u001b[0m\u001b[1;33m=\u001b[0m\u001b[0mfp\u001b[0m\u001b[1;33m.\u001b[0m\u001b[0mread\u001b[0m\u001b[1;33m(\u001b[0m\u001b[1;33m)\u001b[0m\u001b[1;33m\u001b[0m\u001b[0m\n\u001b[0m",
      "\u001b[1;31mUnsupportedOperation\u001b[0m: not readable"
     ]
    }
   ],
   "source": [
    "data=fp.read()"
   ]
  },
  {
   "cell_type": "code",
   "execution_count": null,
   "metadata": {},
   "outputs": [],
   "source": []
  }
 ],
 "metadata": {
  "kernelspec": {
   "display_name": "Python 3",
   "language": "python",
   "name": "python3"
  },
  "language_info": {
   "codemirror_mode": {
    "name": "ipython",
    "version": 3
   },
   "file_extension": ".py",
   "mimetype": "text/x-python",
   "name": "python",
   "nbconvert_exporter": "python",
   "pygments_lexer": "ipython3",
   "version": "3.6.4"
  }
 },
 "nbformat": 4,
 "nbformat_minor": 2
}
