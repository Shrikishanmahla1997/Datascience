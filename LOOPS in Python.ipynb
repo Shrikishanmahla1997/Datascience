{
 "cells": [
  {
   "cell_type": "code",
   "execution_count": 1,
   "metadata": {},
   "outputs": [
    {
     "name": "stdout",
     "output_type": "stream",
     "text": [
      "hello world\n"
     ]
    }
   ],
   "source": [
    "flag = True\n",
    "while flag :\n",
    "    print(\"hello world\")\n",
    "    flag = False"
   ]
  },
  {
   "cell_type": "code",
   "execution_count": 2,
   "metadata": {},
   "outputs": [
    {
     "name": "stdout",
     "output_type": "stream",
     "text": [
      "hello world\n",
      "hello world\n"
     ]
    }
   ],
   "source": [
    "flag = 1\n",
    "while flag <=2 :\n",
    "    print(\"hello world\")\n",
    "    flag += 1"
   ]
  },
  {
   "cell_type": "code",
   "execution_count": 12,
   "metadata": {},
   "outputs": [
    {
     "name": "stdout",
     "output_type": "stream",
     "text": [
      "table: 1\n",
      "table: 2\n",
      "table: 3\n",
      "table: 4\n",
      "table: 5\n",
      "table: 6\n",
      "table: 7\n",
      "table: 8\n",
      "table: 9\n",
      "table: 10\n"
     ]
    }
   ],
   "source": [
    "c =1\n",
    "while c<=10 :\n",
    "    print (f\"table:\",c)\n",
    "    c += 1"
   ]
  },
  {
   "cell_type": "code",
   "execution_count": 15,
   "metadata": {},
   "outputs": [
    {
     "name": "stdout",
     "output_type": "stream",
     "text": [
      "table 1\n",
      "table 4\n",
      "table 9\n",
      "table 16\n",
      "table 25\n",
      "table 36\n",
      "table 49\n",
      "table 64\n",
      "table 81\n",
      "table 100\n"
     ]
    }
   ],
   "source": [
    "c =1\n",
    "while c<=10 :\n",
    "    print (f\"table\",c**2)\n",
    "    c += 1\n",
    "    "
   ]
  },
  {
   "cell_type": "code",
   "execution_count": 17,
   "metadata": {},
   "outputs": [
    {
     "name": "stdout",
     "output_type": "stream",
     "text": [
      "enter a no.:8\n",
      "8*1    =    8\n",
      "8*2    =   16\n",
      "8*3    =   24\n",
      "8*4    =   32\n",
      "8*5    =   40\n",
      "8*6    =   48\n",
      "8*7    =   56\n",
      "8*8    =   64\n",
      "8*9    =   72\n",
      "8*10   =   80\n"
     ]
    }
   ],
   "source": [
    "num =int(input(\"enter a no.:\"))\n",
    "c = 1\n",
    "while c <= 10 :\n",
    "    print(f\"{num}*{c:<5}={num*c:>5}\")\n",
    "    c += 1"
   ]
  },
  {
   "cell_type": "code",
   "execution_count": 19,
   "metadata": {},
   "outputs": [
    {
     "name": "stdout",
     "output_type": "stream",
     "text": [
      "enter a no.:6\n",
      "0     + 6     =     6\n",
      "6     + 6     =    12\n",
      "12    + 6     =    18\n",
      "18    + 6     =    24\n",
      "24    + 6     =    30\n",
      "30    + 6     =    36\n",
      "36    + 6     =    42\n",
      "42    + 6     =    48\n",
      "48    + 6     =    54\n",
      "54    + 6     =    60\n",
      "60    + 6     =    66\n"
     ]
    }
   ],
   "source": [
    "num =int(input(\"enter a no.:\"))\n",
    "c =0\n",
    "s =0\n",
    "while c <= 10 :\n",
    "    print(f\"{s :<5} + {num :<5} = {s+num:>5}\")\n",
    "    s = s+num\n",
    "    c += 1"
   ]
  },
  {
   "cell_type": "code",
   "execution_count": 24,
   "metadata": {},
   "outputs": [
    {
     "name": "stdout",
     "output_type": "stream",
     "text": [
      "In reverse order:\n",
      " 99,  97,  95,  93,  91,  89,  87,  85,  83,  81,  79,  77,  75,  73,  71,  69,  67,  65,  63,  61,  59,  57,  55,  53,  51,  49,  47,  45,  43,  41,  39,  37,  35,  33,  31,  29,  27,  25,  23,  21,  19,  17,  15,  13,  11,  9,  7,  5,  3,  1, "
     ]
    }
   ],
   "source": [
    "c = 99\n",
    "print(\"In reverse order:\")\n",
    "while c >=1 :\n",
    "    \n",
    " print(f\"\",c,end = ', ')\n",
    " c -= 2"
   ]
  },
  {
   "cell_type": "code",
   "execution_count": 34,
   "metadata": {},
   "outputs": [
    {
     "name": "stdout",
     "output_type": "stream",
     "text": [
      "5,7,10,14,15,20,21,25,28,30,35,40,42,45,49,50,55,56,60,63,65,70,75,77,80,84,85,90,91,95,98,100,"
     ]
    }
   ],
   "source": [
    "c = 1\n",
    "while c <=100 :\n",
    "    if ((c % 5 == 0) or (c % 7 == 0)):\n",
    "         print(c,end =\",\")\n",
    "    c += 1\n",
    "           \n"
   ]
  },
  {
   "cell_type": "code",
   "execution_count": 35,
   "metadata": {},
   "outputs": [
    {
     "name": "stdout",
     "output_type": "stream",
     "text": [
      "35,70,"
     ]
    }
   ],
   "source": [
    "c = 1\n",
    "while c <=100 :\n",
    "    if ((c % 5 == 0) and (c % 7 == 0)):\n",
    "         print(c,end =\",\")\n",
    "    c += 1\n",
    "           "
   ]
  },
  {
   "cell_type": "code",
   "execution_count": 38,
   "metadata": {},
   "outputs": [
    {
     "name": "stdout",
     "output_type": "stream",
     "text": [
      "11,32,34,85,46,18,12,37,45,51,"
     ]
    }
   ],
   "source": [
    "from random import randint\n",
    "c = 1\n",
    "while c <=10:\n",
    "    print(randint(1,100),end=',')\n",
    "    c +=1"
   ]
  },
  {
   "cell_type": "code",
   "execution_count": 40,
   "metadata": {},
   "outputs": [
    {
     "name": "stdout",
     "output_type": "stream",
     "text": [
      "1 , \n",
      "2 , \n",
      "3 , \n",
      "4 , \n"
     ]
    }
   ],
   "source": [
    "c = 1\n",
    "while c <= 10 :\n",
    "    if (c >=5 ):\n",
    "        break\n",
    "    print(c ,', ')\n",
    "    c += 1    "
   ]
  },
  {
   "cell_type": "code",
   "execution_count": 1,
   "metadata": {},
   "outputs": [
    {
     "name": "stdout",
     "output_type": "stream",
     "text": [
      "enter a no.:78\n",
      "bye\n"
     ]
    }
   ],
   "source": [
    "num = int(input(\"enter a no.:\"))\n",
    "while (num>=1 and num<= 50) :\n",
    "    num=int(input(\"enter a no>:\"))\n",
    "    print(\"hello \")\n",
    "else:\n",
    "    print(\"bye\")"
   ]
  },
  {
   "cell_type": "code",
   "execution_count": 1,
   "metadata": {},
   "outputs": [
    {
     "name": "stdout",
     "output_type": "stream",
     "text": [
      "press any key:89\n",
      "Hello world\n",
      "press any key:5\n",
      "Hello world\n",
      "press any key:\n",
      "bye\n"
     ]
    }
   ],
   "source": [
    "while input(\"press any key:\") :\n",
    "    print(\"Hello world\")\n",
    "else :\n",
    "    print(\"bye\")"
   ]
  },
  {
   "cell_type": "code",
   "execution_count": 5,
   "metadata": {},
   "outputs": [
    {
     "name": "stdout",
     "output_type": "stream",
     "text": [
      "2\n",
      "4\n",
      "6\n",
      "8\n",
      "10\n",
      "\n"
     ]
    }
   ],
   "source": [
    "c =1\n",
    "while c<= 10 :\n",
    "    if (c % 2 == 0):\n",
    "        print(c)\n",
    "    c +=1\n",
    "    continue\n",
    "else :\n",
    "    print(\"\")\n",
    "    \n"
   ]
  },
  {
   "cell_type": "code",
   "execution_count": 1,
   "metadata": {},
   "outputs": [
    {
     "name": "stdout",
     "output_type": "stream",
     "text": [
      "Guess a number: 3\n",
      "enter guess:10\n",
      "hint:think lower\n",
      "enter guess:2\n",
      "hint: think big\n",
      "enter guess:4\n",
      "hint:think lower\n",
      "enter guess:3\n",
      "won the game!\n"
     ]
    }
   ],
   "source": [
    " from random import randint\n",
    "num = randint(1,50)\n",
    "print(\"Guess a number:\",num)\n",
    "ch =5\n",
    "while ch <=5 :\n",
    "    userguess = int(input(\"enter guess:\"))\n",
    "    if userguess >50 or userguess <1 :\n",
    "        print(\"warning!!!!\")\n",
    "        continue\n",
    "    if userguess > num :\n",
    "        print(\"hint:think lower\")\n",
    "        continue\n",
    "    elif userguess < num :\n",
    "        print(\"hint: think big\")\n",
    "        continue\n",
    "    else :\n",
    "        print(\"won the game!\")\n",
    "        break\n",
    "    ch += 1\n",
    "else :\n",
    "    print(\"com guess was :\",num)\n",
    "    print(\"you loser\")\n",
    "\n",
    "        \n",
    "        \n",
    "    \n"
   ]
  },
  {
   "cell_type": "code",
   "execution_count": 9,
   "metadata": {},
   "outputs": [
    {
     "name": "stdout",
     "output_type": "stream",
     "text": [
      "enter a number:17\n",
      "________________________________________________________________________________\n",
      "17   |2    |1    |    8\n",
      "17   |3    |1    |    5\n",
      "17   |4    |1    |    4\n",
      "17   |5    |1    |    3\n",
      "17   |6    |1    |    2\n",
      "17   |7    |1    |    2\n",
      "17   |8    |1    |    2\n",
      "17   |9    |1    |    1\n",
      "17   |10   |1    |    1\n",
      "17   |11   |1    |    1\n",
      "17   |12   |1    |    1\n"
     ]
    }
   ],
   "source": [
    "\n",
    "num=int(input(\"enter a number:\"))\n",
    "c=2\n",
    "print(\"_\"*80)\n",
    "while c<=12 :\n",
    "    print(f\"{num :<5}|{c :<5}|{num%2 :<5}|{num//c:>5}\")\n",
    "    c +=1"
   ]
  },
  {
   "cell_type": "code",
   "execution_count": 11,
   "metadata": {},
   "outputs": [
    {
     "name": "stdout",
     "output_type": "stream",
     "text": [
      "enter a no.:3\n",
      "Given no.3 is prime\n"
     ]
    }
   ],
   "source": [
    "from math import sqrt,ceil\n",
    "num=int(input(\"enter a no.:\"))\n",
    "start=2\n",
    "end= ceil(sqrt(num))\n",
    "while start <= end :\n",
    "    if num % start ==0 :\n",
    "        print(f\"Given no.{num} is not prime\")\n",
    "        break\n",
    "    start += 1\n",
    "else :\n",
    "    print(f\"Given no.{num} is prime\")\n",
    "    \n",
    "    \n",
    "    "
   ]
  },
  {
   "cell_type": "code",
   "execution_count": null,
   "metadata": {},
   "outputs": [],
   "source": [
    "from math import sqrt,ceil\n",
    "c = 101\n",
    "while c <= 1000 :\n",
    "    num = c\n",
    "    start=2\n",
    "    end= ceil(sqrt(num))\n",
    "    while start <= end :\n",
    "          if num % start ==0 :\n",
    "            break\n",
    "            start += 1\n",
    "else :\n",
    "    print(num,end=', ')\n",
    "    "
   ]
  },
  {
   "cell_type": "code",
   "execution_count": null,
   "metadata": {},
   "outputs": [],
   "source": [
    "row=0\n",
    "while row <= 3 :\n",
    "    print(f\"row-->\",row,end='\\t')\n",
    "    col = 0\n",
    "    while col <= 4 :\n",
    "        print(f\"{col}\",end=', ')\n",
    "        col -= 1\n",
    "    print()\n",
    "    row += 1"
   ]
  },
  {
   "cell_type": "code",
   "execution_count": 1,
   "metadata": {},
   "outputs": [
    {
     "name": "stdout",
     "output_type": "stream",
     "text": [
      "\n",
      "\n",
      "\n",
      "\n",
      "\n",
      "\n",
      "\n",
      "\n",
      "\n",
      "\n"
     ]
    }
   ],
   "source": [
    "row=0\n",
    "while row <= 9 :\n",
    "    col = 0\n",
    "    while col >= 9 :\n",
    "        if col <= row :\n",
    "            print(\"*\",end='|')\n",
    "        else :\n",
    "            break\n",
    "        col += 1\n",
    "    print()    \n",
    "    row += 1    "
   ]
  },
  {
   "cell_type": "code",
   "execution_count": 5,
   "metadata": {},
   "outputs": [
    {
     "name": "stdout",
     "output_type": "stream",
     "text": [
      "*|\n",
      "*|*|\n",
      "*|*|*|\n",
      "*|*|*|*|\n",
      "*|*|*|*|*|\n",
      "*|*|*|*|*|*|\n",
      "*|*|*|*|*|*|*|\n",
      "*|*|*|*|*|*|*|*|\n",
      "*|*|*|*|*|*|*|*|*|\n",
      "*|*|*|*|*|*|*|*|*|*|\n"
     ]
    }
   ],
   "source": [
    "row=0\n",
    "while row <= 9 :\n",
    "    col = 0\n",
    "    while col <= 9 :\n",
    "        if col <= row :\n",
    "            print(\"*\",end='|')\n",
    "            col += 1\n",
    "        else :\n",
    "            break\n",
    "    print()\n",
    "    \n",
    "    row += 1    \n",
    "    "
   ]
  },
  {
   "cell_type": "code",
   "execution_count": 7,
   "metadata": {},
   "outputs": [
    {
     "name": "stdout",
     "output_type": "stream",
     "text": [
      "\n",
      "\n",
      "\n",
      "\n",
      "\n",
      "\n",
      "\n",
      "\n",
      "\n",
      "\n"
     ]
    }
   ],
   "source": [
    "row=0\n",
    "while row <= 9 :\n",
    "    col = 9\n",
    "    while col >= 0 :\n",
    "        if col >= row :\n",
    "            print(\"*\",end='|')\n",
    "            col += 1\n",
    "        else :\n",
    "            break\n",
    "    print()\n",
    "    \n",
    "    row += 1    \n",
    "    "
   ]
  },
  {
   "cell_type": "code",
   "execution_count": null,
   "metadata": {},
   "outputs": [],
   "source": []
  },
  {
   "cell_type": "code",
   "execution_count": null,
   "metadata": {},
   "outputs": [],
   "source": []
  },
  {
   "cell_type": "code",
   "execution_count": null,
   "metadata": {},
   "outputs": [],
   "source": []
  }
 ],
 "metadata": {
  "kernelspec": {
   "display_name": "Python 3",
   "language": "python",
   "name": "python3"
  },
  "language_info": {
   "codemirror_mode": {
    "name": "ipython",
    "version": 3
   },
   "file_extension": ".py",
   "mimetype": "text/x-python",
   "name": "python",
   "nbconvert_exporter": "python",
   "pygments_lexer": "ipython3",
   "version": "3.6.4"
  }
 },
 "nbformat": 4,
 "nbformat_minor": 2
}
